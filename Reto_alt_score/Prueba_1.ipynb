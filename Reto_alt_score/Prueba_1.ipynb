{
 "cells": [
  {
   "cell_type": "code",
   "execution_count": 35,
   "metadata": {},
   "outputs": [
    {
     "name": "stdout",
     "output_type": "stream",
     "text": [
      "Listo\n"
     ]
    }
   ],
   "source": [
    "import requests\n",
    "\n",
    "postulation ={\n",
    "  \"alias\": \"Felipe Terraza\",\n",
    "  \"country\": \"CHL\",\n",
    "  \"email\": \"felipe.terraza@sansano.usm.cl\",\n",
    "  \"apply_role\": \"data\"\n",
    "}\n",
    "\n",
    "url = 'https://makers-challenge.altscore.ai/v1/register'\n",
    "headers = {\n",
    "    \"accept\": \"application/json\",\n",
    "    \"Content-Type\": \"application/json\"\n",
    "}\n",
    "\n",
    "\n",
    "response = requests.post(url, json=postulation, headers=headers)\n",
    "\n",
    "if response.status_code == 200:\n",
    "    print('Listo')\n",
    "else:\n",
    "    print(f'error {response.status_code} {response.text}')"
   ]
  },
  {
   "cell_type": "code",
   "execution_count": 34,
   "metadata": {},
   "outputs": [
    {
     "name": "stdout",
     "output_type": "stream",
     "text": [
      "{\"distance\":\"failed to measure, try again\",\"time\":\"failed to measure, try again\"}\n"
     ]
    }
   ],
   "source": [
    "headers = {\n",
    "    \"accept\": \"application/json\",\n",
    "      \"API-KEY\": \"2faf2ac84ff6440dad089735590d47b4\"\n",
    "}\n",
    "url='https://makers-challenge.altscore.ai/v1/s1/e1/resources/measurement'\n",
    "response = requests.get(url, headers=headers)  \n",
    "\n",
    "print(response.text)\n",
    "\n",
    "# n=0\n",
    "# while n<=500:\n",
    "#     if response.json()['distance'] == 'failed to measure, try again':\n",
    "#         response = requests.get(url, headers=headers)\n",
    "#         print(response.json()['distance'])\n",
    "#     else:\n",
    "#         print(response.json()['distance'])\n",
    "#         break\n",
    "# print(response.text)\n",
    "\n",
    "\n"
   ]
  },
  {
   "cell_type": "code",
   "execution_count": null,
   "metadata": {},
   "outputs": [],
   "source": []
  },
  {
   "cell_type": "code",
   "execution_count": null,
   "metadata": {},
   "outputs": [],
   "source": []
  },
  {
   "cell_type": "code",
   "execution_count": null,
   "metadata": {},
   "outputs": [],
   "source": []
  },
  {
   "cell_type": "code",
   "execution_count": null,
   "metadata": {},
   "outputs": [],
   "source": []
  },
  {
   "cell_type": "code",
   "execution_count": null,
   "metadata": {},
   "outputs": [],
   "source": []
  },
  {
   "cell_type": "code",
   "execution_count": null,
   "metadata": {},
   "outputs": [],
   "source": []
  },
  {
   "cell_type": "code",
   "execution_count": null,
   "metadata": {},
   "outputs": [],
   "source": []
  },
  {
   "cell_type": "code",
   "execution_count": null,
   "metadata": {},
   "outputs": [],
   "source": []
  }
 ],
 "metadata": {
  "kernelspec": {
   "display_name": "Python 3",
   "language": "python",
   "name": "python3"
  },
  "language_info": {
   "codemirror_mode": {
    "name": "ipython",
    "version": 3
   },
   "file_extension": ".py",
   "mimetype": "text/x-python",
   "name": "python",
   "nbconvert_exporter": "python",
   "pygments_lexer": "ipython3",
   "version": "3.11.8"
  }
 },
 "nbformat": 4,
 "nbformat_minor": 2
}
